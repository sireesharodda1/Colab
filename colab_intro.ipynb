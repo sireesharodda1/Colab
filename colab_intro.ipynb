{
  "nbformat": 4,
  "nbformat_minor": 0,
  "metadata": {
    "colab": {
      "name": "colab_intro.ipynb",
      "provenance": [],
      "collapsed_sections": [],
      "authorship_tag": "ABX9TyNyDa/sKYRSbTxOc4BTz0gk",
      "include_colab_link": true
    },
    "kernelspec": {
      "name": "python3",
      "display_name": "Python 3"
    }
  },
  "cells": [
    {
      "cell_type": "markdown",
      "metadata": {
        "id": "view-in-github",
        "colab_type": "text"
      },
      "source": [
        "<a href=\"https://colab.research.google.com/github/sireesharodda1/Colab/blob/master/colab_intro.ipynb\" target=\"_parent\"><img src=\"https://colab.research.google.com/assets/colab-badge.svg\" alt=\"Open In Colab\"/></a>"
      ]
    },
    {
      "cell_type": "markdown",
      "metadata": {
        "id": "TxMEVizoNS2t",
        "colab_type": "text"
      },
      "source": [
        "Program including Introduction to programming through google colaboratory"
      ]
    },
    {
      "cell_type": "code",
      "metadata": {
        "id": "xpLH-6oIKu-m",
        "colab_type": "code",
        "colab": {}
      },
      "source": [
        "print('hello github')"
      ],
      "execution_count": 0,
      "outputs": []
    }
  ]
}